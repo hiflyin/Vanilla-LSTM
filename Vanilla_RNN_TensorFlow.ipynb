{
 "cells": [
  {
   "cell_type": "code",
   "execution_count": null,
   "metadata": {
    "collapsed": true
   },
   "outputs": [],
   "source": [
    "# just replace numpy array and constants with tf tensors \n",
    "# rest is easy"
   ]
  },
  {
   "cell_type": "code",
   "execution_count": 1,
   "metadata": {
    "collapsed": true
   },
   "outputs": [],
   "source": [
    "\n",
    "from __future__ import absolute_import\n",
    "from __future__ import division\n",
    "from __future__ import print_function\n",
    "\n",
    "import numpy as np\n",
    "import tensorflow as tf\n"
   ]
  },
  {
   "cell_type": "code",
   "execution_count": null,
   "metadata": {
    "collapsed": true
   },
   "outputs": [],
   "source": [
    "## basic linear algebra and stats with tensor flow"
   ]
  },
  {
   "cell_type": "code",
   "execution_count": 73,
   "metadata": {
    "collapsed": false
   },
   "outputs": [
    {
     "name": "stdout",
     "output_type": "stream",
     "text": [
      "[[ -0.5043242   10.19509602  -8.18469143]\n",
      " [  0.2430383   -6.27797699  -1.20590532]]\n"
     ]
    }
   ],
   "source": [
    "# generate random nd vector\n",
    "# set random seed\n",
    "tf.set_random_seed(0) \n",
    "norm = tf.random_normal([2, 3], mean=-1, stddev=4, seed = 0)\n",
    "\n",
    "with tf.Session() as sess:\n",
    "      \n",
    "    print(sess.run(norm))\n",
    "    "
   ]
  },
  {
   "cell_type": "code",
   "execution_count": 98,
   "metadata": {
    "collapsed": false
   },
   "outputs": [
    {
     "name": "stdout",
     "output_type": "stream",
     "text": [
      "(2, 2)\n",
      "add_scalar\n",
      "[[  4.49567604  15.19509602]\n",
      " [ -3.18469143   5.24303818]]\n",
      "dot_x_y\n",
      "[[-83.18937683  -2.66383481]\n",
      " [  2.13854456 -83.38465118]]\n",
      "m\n",
      "[[  2.54342884e-01   1.03939980e+02]\n",
      " [  6.69891739e+01   5.90676144e-02]]\n",
      "y\n",
      "[[ -0.5043242   10.19509602]\n",
      " [ -8.18469143   0.2430383 ]]\n",
      "x\n",
      "[[ -0.5043242   10.19509602]\n",
      " [ -8.18469143   0.2430383 ]]\n",
      "z\n",
      "[[ -1.0086484   20.39019203]\n",
      " [-16.36938286   0.48607659]]\n"
     ]
    }
   ],
   "source": [
    "\n",
    "# sum / diff of 2 nd vectors of the same size\n",
    "# multiply vector with scalar\n",
    "# multiply vector with vector - elem by elem\n",
    "# '.' product of 2 vectors\n",
    "\n",
    "tf.set_random_seed(0)\n",
    "\n",
    "with tf.Session() as sess:\n",
    "    \n",
    "    x = tf.random_normal([2, 2], mean=-1, stddev=4, seed = 0)\n",
    "    y = tf.random_normal([2, 2], mean=-1, stddev=4, seed = 0)\n",
    "    \n",
    "    z = x + y\n",
    "    m = x*y\n",
    "    add_scalar = x + 5\n",
    "    \n",
    "    dot_x_y = tf.matmul(x,y)\n",
    "    \n",
    "    a = sess.run({'x':x, 'y':y, 'z':z, 'm':m, 'add_scalar': add_scalar, 'dot_x_y': dot_x_y})\n",
    "    # print shape sometimes for debugging\n",
    "    print(dot_x_y.shape)\n",
    "\n",
    "for key in a.keys():\n",
    "    print(key)\n",
    "    print(a[key])\n",
    "    "
   ]
  },
  {
   "cell_type": "code",
   "execution_count": null,
   "metadata": {
    "collapsed": true
   },
   "outputs": [],
   "source": []
  },
  {
   "cell_type": "code",
   "execution_count": 2,
   "metadata": {
    "collapsed": false
   },
   "outputs": [
    {
     "name": "stdout",
     "output_type": "stream",
     "text": [
      "Tensor(\"Const:0\", shape=(), dtype=float32)\n",
      "Tensor(\"Const_1:0\", shape=(), dtype=float32)\n",
      "Tensor(\"add:0\", shape=(), dtype=float32)\n"
     ]
    }
   ],
   "source": [
    "# some constants stuff\n",
    "a = tf.constant(3.0, dtype=tf.float32)\n",
    "b = tf.constant(4.0) # also tf.float32 implicitly\n",
    "total = a + b\n",
    "print(a)\n",
    "print(b)\n",
    "print(total)\n",
    "sess = tf.Session()\n",
    "print(sess.run(total))\n"
   ]
  },
  {
   "cell_type": "code",
   "execution_count": 32,
   "metadata": {
    "collapsed": true
   },
   "outputs": [],
   "source": []
  },
  {
   "cell_type": "code",
   "execution_count": null,
   "metadata": {
    "collapsed": true
   },
   "outputs": [],
   "source": []
  },
  {
   "cell_type": "code",
   "execution_count": null,
   "metadata": {
    "collapsed": true
   },
   "outputs": [],
   "source": []
  }
 ],
 "metadata": {
  "kernelspec": {
   "display_name": "Python 2",
   "language": "python",
   "name": "python2"
  },
  "language_info": {
   "codemirror_mode": {
    "name": "ipython",
    "version": 2
   },
   "file_extension": ".py",
   "mimetype": "text/x-python",
   "name": "python",
   "nbconvert_exporter": "python",
   "pygments_lexer": "ipython2",
   "version": "2.7.12"
  }
 },
 "nbformat": 4,
 "nbformat_minor": 2
}
